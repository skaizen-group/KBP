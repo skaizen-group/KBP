{
 "cells": [
  {
   "cell_type": "code",
   "execution_count": 1,
   "metadata": {},
   "outputs": [],
   "source": [
    "# Created on 13/05/2019 by Ali JABBARI\n",
    "#\n",
    "# Script to get synonym words from WOLF (French WordNet)\n",
    "#\n",
    "#"
   ]
  },
  {
   "cell_type": "code",
   "execution_count": 1,
   "metadata": {},
   "outputs": [],
   "source": [
    "import xml.etree.ElementTree as ET"
   ]
  },
  {
   "cell_type": "code",
   "execution_count": 2,
   "metadata": {},
   "outputs": [],
   "source": [
    "my_xmlfile = '../test_data/wolf-1.0b4.xml'\n",
    "root = ET.parse(my_xmlfile).getroot()"
   ]
  },
  {
   "cell_type": "code",
   "execution_count": 3,
   "metadata": {},
   "outputs": [],
   "source": [
    "def recurse_tree(node, keyword):\n",
    "    for child in node.getchildren():\n",
    "        if child.text == keyword:\n",
    "            yield node\n",
    "        for subchild in recurse_tree(child, keyword):\n",
    "            yield subchild"
   ]
  },
  {
   "cell_type": "code",
   "execution_count": 5,
   "metadata": {},
   "outputs": [],
   "source": [
    "# results[1][0].text"
   ]
  },
  {
   "cell_type": "code",
   "execution_count": 4,
   "metadata": {},
   "outputs": [],
   "source": [
    "def lookUp(keywords, node):\n",
    "    outlist = []\n",
    "    for kw in keywords:\n",
    "        results = list(recurse_tree(node,kw))\n",
    "        flat_list = [item.text for sublist in results for item in sublist]\n",
    "        outlist.append(list(set(flat_list)))\n",
    "    outdict = dict(zip(keywords,outlist))\n",
    "    return outdict"
   ]
  },
  {
   "cell_type": "code",
   "execution_count": 5,
   "metadata": {},
   "outputs": [],
   "source": [
    "keywords = ['colis', 'bagage']"
   ]
  },
  {
   "cell_type": "code",
   "execution_count": 8,
   "metadata": {},
   "outputs": [
    {
     "name": "stderr",
     "output_type": "stream",
     "text": [
      "/home/ali/anaconda3/envs/space/lib/python3.7/site-packages/ipykernel_launcher.py:2: DeprecationWarning: This method will be removed in future versions.  Use 'list(elem)' or iteration over elem instead.\n",
      "  \n"
     ]
    },
    {
     "data": {
      "text/plain": [
       "{'colis': ['bagage', 'paquet', 'colis'], 'bagage': ['bagage', 'colis']}"
      ]
     },
     "execution_count": 8,
     "metadata": {},
     "output_type": "execute_result"
    }
   ],
   "source": [
    "output = lookUp(keywords, root)\n",
    "output"
   ]
  },
  {
   "cell_type": "code",
   "execution_count": 6,
   "metadata": {},
   "outputs": [],
   "source": [
    "def populateList(node, seeds):\n",
    "    plist = []\n",
    "    for seed in seeds:\n",
    "        results = list(recurse_tree(node,seed))\n",
    "        flat_list = [item.text for sublist in results for item in sublist]\n",
    "        plist.extend(list(set(flat_list)))\n",
    "    return plist"
   ]
  },
  {
   "cell_type": "code",
   "execution_count": 11,
   "metadata": {},
   "outputs": [
    {
     "name": "stderr",
     "output_type": "stream",
     "text": [
      "/home/ali/anaconda3/envs/space/lib/python3.7/site-packages/ipykernel_launcher.py:2: DeprecationWarning: This method will be removed in future versions.  Use 'list(elem)' or iteration over elem instead.\n",
      "  \n"
     ]
    },
    {
     "data": {
      "text/plain": [
       "['bagage', 'paquet', 'colis', 'bagage', 'colis']"
      ]
     },
     "execution_count": 11,
     "metadata": {},
     "output_type": "execute_result"
    }
   ],
   "source": [
    "populateList(root, keywords)"
   ]
  },
  {
   "cell_type": "code",
   "execution_count": 7,
   "metadata": {},
   "outputs": [],
   "source": [
    "# returns all related terms, recursively\n",
    "\n",
    "def findAll(node, sds, results=None):\n",
    "    if results == None:\n",
    "        results = set()\n",
    "    else:\n",
    "        pass    \n",
    "    syns = []\n",
    "    for sd in sds:\n",
    "        syns.append(recurse_tree(root, sd))\n",
    "\n",
    "    for sy in syns:\n",
    "        syset = set(item.text for sublist in sy for item in sublist)\n",
    "        new_seeds = syset - results\n",
    "        results |= syset\n",
    "        # print(new_seeds)\n",
    "        if new_seeds:\n",
    "            findAll(node, new_seeds, results)\n",
    "            return results\n"
   ]
  },
  {
   "cell_type": "code",
   "execution_count": 12,
   "metadata": {},
   "outputs": [
    {
     "name": "stderr",
     "output_type": "stream",
     "text": [
      "/home/ali/anaconda3/envs/space/lib/python3.7/site-packages/ipykernel_launcher.py:2: DeprecationWarning: This method will be removed in future versions.  Use 'list(elem)' or iteration over elem instead.\n",
      "  \n"
     ]
    },
    {
     "data": {
      "text/plain": [
       "{'Navire de croisière',\n",
       " 'bagage',\n",
       " 'colis',\n",
       " 'jeu de cartes',\n",
       " 'navire de croisière',\n",
       " 'paquebot',\n",
       " 'paquet'}"
      ]
     },
     "execution_count": 12,
     "metadata": {},
     "output_type": "execute_result"
    }
   ],
   "source": [
    "mySet = {'bagage', 'colis'}\n",
    "findAll(root, mySet, results=None)"
   ]
  },
  {
   "cell_type": "code",
   "execution_count": 9,
   "metadata": {},
   "outputs": [
    {
     "name": "stdout",
     "output_type": "stream",
     "text": [
      "italien : LOC\n",
      "londres : LOC\n",
      "casablanca : LOC\n",
      "maroc : LOC\n",
      "afrique du sud : LOC\n",
      "johannesburg : LOC\n",
      "maurice : LOC\n",
      "américain : LOC\n",
      "chinois : LOC\n",
      "français : LOC\n",
      "néerlandai : LOC\n",
      "allemand : LOC\n",
      "casablanca : LOC\n",
      "libreville : LOC\n",
      "tanger : LOC\n",
      "abidjan : LOC\n",
      "lagos : LOC\n",
      "maroc : LOC\n",
      "maroc : LOC\n",
      "casablanca : LOC\n",
      "casablaca : LOC\n",
      "maroc : LOC\n",
      "brésil : LOC\n",
      "france : LOC\n",
      "france : LOC\n",
      "france : LOC\n",
      "france : LOC\n",
      "français : LOC\n",
      "france : LOC\n",
      "france : LOC\n",
      "france : LOC\n",
      "français : LOC\n",
      "rome : LOC\n",
      "paris : LOC\n",
      "brésilien : LOC\n",
      "aix : LOC\n",
      "marseille : LOC\n",
      "france : LOC\n",
      "etats-unis : LOC\n",
      "brésil : LOC\n",
      "brésil : LOC\n",
      "chine : LOC\n",
      "chine : LOC\n",
      "russie : LOC\n",
      "usa : LOC\n",
      "chine : LOC\n",
      "suisse : LOC\n",
      "chinois : LOC\n",
      "paris : LOC\n",
      "chinoise : LOC\n",
      "françaises : LOC\n",
      "chinois : LOC\n",
      "suresnes : LOC\n",
      "pantin : LOC\n",
      "villejuif : LOC\n",
      "gennevilliers : LOC\n",
      "paris : LOC\n",
      "saint-denis : LOC\n",
      "pantin : LOC\n",
      "issy-les-moulineaux : LOC\n",
      "les ulis : LOC\n",
      "issy-les-moulineaux : LOC\n",
      "montrouge : LOC\n",
      "montrouge : LOC\n",
      "paris : LOC\n",
      "france : LOC\n",
      "france : LOC\n",
      "français : LOC\n",
      "parisiens : LOC\n",
      "chine : LOC\n",
      "italie : LOC\n",
      "afrique du sud : LOC\n",
      "hong kong : LOC\n",
      "français : LOC\n",
      "france : LOC\n",
      "françaises : LOC\n",
      "france : LOC\n",
      "france : LOC\n",
      "française : LOC\n",
      "tokyo : LOC\n",
      "chine : LOC\n",
      "new york : LOC\n",
      "suède : LOC\n",
      "américaine : LOC\n",
      "américain : LOC\n",
      "américaines : LOC\n",
      "françaises : LOC\n",
      "américaines : LOC\n",
      "ukraine : LOC\n",
      "russie : LOC\n",
      "argentine : LOC\n",
      "portugaise : LOC\n",
      "français : LOC\n",
      "français : LOC\n",
      "etats-unis : LOC\n",
      "inde : LOC\n",
      "brésil : LOC\n",
      "chine : LOC\n",
      "inde : LOC\n",
      "brésil : LOC\n",
      "russie : LOC\n",
      "américains : LOC\n",
      "viêtnam : LOC\n",
      "turquie : LOC\n",
      "etats-unis : LOC\n",
      "detroit : LOC\n",
      "munich : LOC\n",
      "bratislava : LOC\n",
      "shanghai : LOC\n",
      "chine : LOC\n",
      "brésil : LOC\n",
      "chinois : LOC\n",
      "indonésie : LOC\n",
      "viêtnam : LOC\n",
      "turquie : LOC\n",
      "chine : LOC\n",
      "compiègne : LOC\n",
      "brest : LOC\n",
      "paris : LOC\n",
      "français : LOC\n",
      "france : LOC\n",
      "françaises : LOC\n",
      "france : LOC\n",
      "allemagne : LOC\n",
      "française : LOC\n",
      "allemand : LOC\n",
      "allemagne : LOC\n",
      "royaume-uni : LOC\n",
      "france : LOC\n",
      "français : LOC\n",
      "paris : LOC\n",
      "allemagne : LOC\n",
      "france : LOC\n",
      "allemandes : LOC\n",
      "france : LOC\n",
      "france : LOC\n",
      "grande-bretagne : LOC\n",
      "allemagne : LOC\n",
      "françaises : LOC\n",
      "allemandes : LOC\n",
      "allemande : LOC\n",
      "lyon : LOC\n",
      "françaises : LOC\n",
      "américaine : LOC\n",
      "chinoise : LOC\n",
      "france : LOC\n",
      "qatari : LOC\n",
      "français : LOC\n",
      "france : LOC\n",
      "france : LOC\n",
      "français : LOC\n",
      "saint-etienne : LOC\n",
      "allemand : LOC\n",
      "france : LOC\n",
      "chine : LOC\n",
      "france : LOC\n",
      "france : LOC\n",
      "allemagne : LOC\n",
      "allemagne : LOC\n",
      "allemagne : LOC\n",
      "canada : LOC\n",
      "suède : LOC\n",
      "france : LOC\n",
      "france : LOC\n",
      "américaine : LOC\n"
     ]
    }
   ],
   "source": [
    "from ipynb.fs.full.import_annotations import getTags"
   ]
  },
  {
   "cell_type": "code",
   "execution_count": 10,
   "metadata": {},
   "outputs": [],
   "source": [
    "role_tags = set(getTags(['Role']))"
   ]
  },
  {
   "cell_type": "code",
   "execution_count": 11,
   "metadata": {},
   "outputs": [
    {
     "name": "stderr",
     "output_type": "stream",
     "text": [
      "/home/ali/anaconda3/envs/space/lib/python3.7/site-packages/ipykernel_launcher.py:2: DeprecationWarning: This method will be removed in future versions.  Use 'list(elem)' or iteration over elem instead.\n",
      "  \n"
     ]
    },
    {
     "data": {
      "text/plain": [
       "['chercheur',\n",
       " 'investigateur',\n",
       " 'explorateur',\n",
       " 'job',\n",
       " 'emploi',\n",
       " 'occupation',\n",
       " 'fonction',\n",
       " 'travail',\n",
       " 'station',\n",
       " 'exercice',\n",
       " 'poste',\n",
       " 'coutume',\n",
       " 'position',\n",
       " 'utilisation',\n",
       " 'chose',\n",
       " 'usage',\n",
       " 'application',\n",
       " 'appel',\n",
       " 'service',\n",
       " 'besoin',\n",
       " 'place',\n",
       " 'métier',\n",
       " 'profession',\n",
       " 'accordailles',\n",
       " 'tâche',\n",
       " 'situation',\n",
       " 'travers',\n",
       " 'exploitation',\n",
       " 'chômage',\n",
       " 'grâce',\n",
       " 'fiançailles',\n",
       " 'gare',\n",
       " 'habitude',\n",
       " 'consommation',\n",
       " 'consultant',\n",
       " 'consultante',\n",
       " 'conseilleur',\n",
       " 'conseiller',\n",
       " 'flétan',\n",
       " 'flétan du Groenland',\n",
       " 'flétan noir',\n",
       " 'flétan blanc',\n",
       " 'du',\n",
       " \"flétan de l'Atlantique\",\n",
       " 'management',\n",
       " 'gestion',\n",
       " 'maniement',\n",
       " 'présidence',\n",
       " 'administration',\n",
       " 'direction',\n",
       " 'gouvernement',\n",
       " 'traitement',\n",
       " 'vp',\n",
       " 'gouverneur',\n",
       " 'VP',\n",
       " 'vice-président',\n",
       " 'président',\n",
       " 'premier',\n",
       " 'secrétaire général',\n",
       " 'nombre premier',\n",
       " 'gouverneur',\n",
       " 'modérateur',\n",
       " 'vice-président',\n",
       " 'président',\n",
       " 'gestionnaire',\n",
       " 'carte routière',\n",
       " 'exécutif',\n",
       " 'entraîneur',\n",
       " 'contremaitre',\n",
       " 'directeur musical',\n",
       " \"chef d'orchestre\",\n",
       " 'directeur',\n",
       " 'chef',\n",
       " 'patron',\n",
       " 'dirigeant',\n",
       " 'directrice',\n",
       " 'cadre',\n",
       " 'car',\n",
       " 'administration',\n",
       " 'gérant',\n",
       " 'administrateur',\n",
       " 'directive',\n",
       " 'régisseur',\n",
       " 'réalisateur',\n",
       " 'economiste',\n",
       " 'économiste',\n",
       " 'gérant municipal',\n",
       " 'directeur général',\n",
       " 'maire',\n",
       " 'syndic',\n",
       " 'bourgmestre',\n",
       " 'membre',\n",
       " 'verge',\n",
       " 'bite',\n",
       " 'Phallus',\n",
       " 'article',\n",
       " 'terme',\n",
       " 'objet',\n",
       " 'statut',\n",
       " 'pénis',\n",
       " 'Pénis',\n",
       " 'phallus',\n",
       " 'extrémité',\n",
       " 'modèle',\n",
       " 'gestionnaire',\n",
       " 'seigneur',\n",
       " 'entraîneur',\n",
       " 'réponse type',\n",
       " 'locataire',\n",
       " 'directeur',\n",
       " 'chef',\n",
       " 'aubergiste',\n",
       " 'patron',\n",
       " 'calibre',\n",
       " 'template',\n",
       " 'dirigeant',\n",
       " 'directrice',\n",
       " 'cadre',\n",
       " 'patronat',\n",
       " 'car',\n",
       " 'gérant',\n",
       " 'réglette',\n",
       " 'administrateur',\n",
       " 'mode',\n",
       " 'client',\n",
       " 'gabarit',\n",
       " 'propriétaire',\n",
       " 'secrétaire général',\n",
       " 'président',\n",
       " 'agent',\n",
       " 'représentant',\n",
       " 'messager',\n",
       " 'porte-parole',\n",
       " 'délégué',\n",
       " 'représentation',\n",
       " 'émissaire',\n",
       " 'interprète',\n",
       " 'congrès',\n",
       " 'parlementaire',\n",
       " 'courtier',\n",
       " 'membre du Congrès',\n",
       " 'envoyé',\n",
       " 'mandataire',\n",
       " 'député',\n",
       " 'voix',\n",
       " 'son',\n",
       " \"droit d'auteur\",\n",
       " 'écrivain',\n",
       " 'malfaiteur',\n",
       " 'copyright',\n",
       " 'auteur',\n",
       " 'source',\n",
       " 'coupable',\n",
       " 'générateur',\n",
       " 'orientation',\n",
       " 'guidance',\n",
       " 'mode',\n",
       " 'conseil',\n",
       " 'management',\n",
       " 'commission',\n",
       " 'gestion',\n",
       " 'voie',\n",
       " 'administration',\n",
       " 'sens',\n",
       " 'direction',\n",
       " 'avis',\n",
       " 'agent',\n",
       " 'officiel',\n",
       " 'collabo',\n",
       " 'sbire',\n",
       " 'collaborateur',\n",
       " 'quisling',\n",
       " 'partenaire',\n",
       " 'architecture',\n",
       " 'Architecte',\n",
       " 'architecte']"
      ]
     },
     "execution_count": 11,
     "metadata": {},
     "output_type": "execute_result"
    }
   ],
   "source": [
    "keywords = role_tags\n",
    "\n",
    "# findAll(root, keywords, results=None)\n",
    "populateList(root, keywords)"
   ]
  },
  {
   "cell_type": "code",
   "execution_count": null,
   "metadata": {},
   "outputs": [],
   "source": []
  }
 ],
 "metadata": {
  "kernelspec": {
   "display_name": "space",
   "language": "python",
   "name": "space"
  },
  "language_info": {
   "codemirror_mode": {
    "name": "ipython",
    "version": 3
   },
   "file_extension": ".py",
   "mimetype": "text/x-python",
   "name": "python",
   "nbconvert_exporter": "python",
   "pygments_lexer": "ipython3",
   "version": "3.7.3"
  }
 },
 "nbformat": 4,
 "nbformat_minor": 2
}
