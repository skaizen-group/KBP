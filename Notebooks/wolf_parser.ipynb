{
 "cells": [
  {
   "cell_type": "code",
   "execution_count": 1,
   "metadata": {},
   "outputs": [],
   "source": [
    "# Created on 13/05/2019 by Ali JABBARI\n",
    "#\n",
    "# Script to get synonym words from WOLF (French WordNet)\n",
    "#\n",
    "#"
   ]
  },
  {
   "cell_type": "code",
   "execution_count": 44,
   "metadata": {},
   "outputs": [],
   "source": [
    "import xml.etree.ElementTree as ET\n",
    "from annloader import *"
   ]
  },
  {
   "cell_type": "code",
   "execution_count": 3,
   "metadata": {},
   "outputs": [],
   "source": [
    "my_xmlfile = '../test_data/wolf-1.0b4.xml'\n",
    "root = ET.parse(my_xmlfile).getroot()"
   ]
  },
  {
   "cell_type": "code",
   "execution_count": 4,
   "metadata": {},
   "outputs": [],
   "source": [
    "def recurse_tree(node, keyword):\n",
    "    for child in node.getchildren():\n",
    "        if child.text == keyword:\n",
    "            yield node\n",
    "        for subchild in recurse_tree(child, keyword):\n",
    "            yield subchild"
   ]
  },
  {
   "cell_type": "code",
   "execution_count": 5,
   "metadata": {},
   "outputs": [],
   "source": [
    "# results[1][0].text"
   ]
  },
  {
   "cell_type": "code",
   "execution_count": 6,
   "metadata": {},
   "outputs": [],
   "source": [
    "def lookUp(keywords, node):\n",
    "    outlist = []\n",
    "    for kw in keywords:\n",
    "        results = list(recurse_tree(node,kw))\n",
    "        flat_list = [item.text for sublist in results for item in sublist]\n",
    "        outlist.append(list(set(flat_list)))\n",
    "    outdict = dict(zip(keywords,outlist))\n",
    "    return outdict"
   ]
  },
  {
   "cell_type": "code",
   "execution_count": 5,
   "metadata": {},
   "outputs": [],
   "source": [
    "keywords = ['colis', 'bagage']"
   ]
  },
  {
   "cell_type": "code",
   "execution_count": 8,
   "metadata": {},
   "outputs": [
    {
     "name": "stderr",
     "output_type": "stream",
     "text": [
      "/home/ali/anaconda3/envs/space/lib/python3.7/site-packages/ipykernel_launcher.py:2: DeprecationWarning: This method will be removed in future versions.  Use 'list(elem)' or iteration over elem instead.\n",
      "  \n"
     ]
    },
    {
     "data": {
      "text/plain": [
       "{'colis': ['bagage', 'paquet', 'colis'], 'bagage': ['bagage', 'colis']}"
      ]
     },
     "execution_count": 8,
     "metadata": {},
     "output_type": "execute_result"
    }
   ],
   "source": [
    "output = lookUp(keywords, root)\n",
    "output"
   ]
  },
  {
   "cell_type": "code",
   "execution_count": 18,
   "metadata": {},
   "outputs": [],
   "source": [
    "def populateList(node, seeds):\n",
    "    plist = []\n",
    "    for seed in seeds:\n",
    "        results = list(recurse_tree(node,seed))\n",
    "        flat_list = [item.text for sublist in results for item in sublist]\n",
    "        plist.extend(list(set(flat_list)))\n",
    "    return plist"
   ]
  },
  {
   "cell_type": "code",
   "execution_count": 11,
   "metadata": {},
   "outputs": [
    {
     "name": "stderr",
     "output_type": "stream",
     "text": [
      "/home/ali/anaconda3/envs/space/lib/python3.7/site-packages/ipykernel_launcher.py:2: DeprecationWarning: This method will be removed in future versions.  Use 'list(elem)' or iteration over elem instead.\n",
      "  \n"
     ]
    },
    {
     "data": {
      "text/plain": [
       "['bagage', 'paquet', 'colis', 'bagage', 'colis']"
      ]
     },
     "execution_count": 11,
     "metadata": {},
     "output_type": "execute_result"
    }
   ],
   "source": [
    "populateList(root, keywords)"
   ]
  },
  {
   "cell_type": "code",
   "execution_count": 7,
   "metadata": {},
   "outputs": [],
   "source": [
    "# returns all related terms, recursively\n",
    "\n",
    "def findAll(node, sds, results=None):\n",
    "    if results == None:\n",
    "        results = set()\n",
    "    else:\n",
    "        pass    \n",
    "    syns = []\n",
    "    for sd in sds:\n",
    "        syns.append(recurse_tree(root, sd))\n",
    "\n",
    "    for sy in syns:\n",
    "        syset = set(item.text for sublist in sy for item in sublist)\n",
    "        new_seeds = syset - results\n",
    "        results |= syset\n",
    "        # print(new_seeds)\n",
    "        if new_seeds:\n",
    "            findAll(node, new_seeds, results)\n",
    "            return results\n"
   ]
  },
  {
   "cell_type": "code",
   "execution_count": 12,
   "metadata": {},
   "outputs": [
    {
     "name": "stderr",
     "output_type": "stream",
     "text": [
      "/home/ali/anaconda3/envs/space/lib/python3.7/site-packages/ipykernel_launcher.py:2: DeprecationWarning: This method will be removed in future versions.  Use 'list(elem)' or iteration over elem instead.\n",
      "  \n"
     ]
    },
    {
     "data": {
      "text/plain": [
       "{'Navire de croisière',\n",
       " 'bagage',\n",
       " 'colis',\n",
       " 'jeu de cartes',\n",
       " 'navire de croisière',\n",
       " 'paquebot',\n",
       " 'paquet'}"
      ]
     },
     "execution_count": 12,
     "metadata": {},
     "output_type": "execute_result"
    }
   ],
   "source": [
    "mySet = {'bagage', 'colis'}\n",
    "findAll(root, mySet, results=None)"
   ]
  },
  {
   "cell_type": "code",
   "execution_count": 7,
   "metadata": {},
   "outputs": [],
   "source": []
  },
  {
   "cell_type": "code",
   "execution_count": 11,
   "metadata": {},
   "outputs": [],
   "source": [
    "data_path = './data/'\n",
    "ann = getFileList(('.ann'), data_path+'./trainset')\n",
    "txt = getFileList(('.txt'), data_path+'./trainset')\n",
    "\n",
    "role_tags = set(getTags(ann, txt, ['Role']))"
   ]
  },
  {
   "cell_type": "code",
   "execution_count": 16,
   "metadata": {},
   "outputs": [
    {
     "data": {
      "text/plain": [
       "{'architecte',\n",
       " 'architecte et psychologue du travail',\n",
       " 'associé',\n",
       " 'associée',\n",
       " 'auteur',\n",
       " 'chasseur de têtes',\n",
       " 'chefs',\n",
       " 'chercheur',\n",
       " 'co-fondateur du groupe',\n",
       " 'coach',\n",
       " 'coache',\n",
       " 'collaborateur',\n",
       " 'consultante',\n",
       " 'contrôleurs de gestion',\n",
       " 'designers',\n",
       " 'directeur',\n",
       " 'directeur du développement',\n",
       " 'directeur du fonds de modernisation',\n",
       " 'directeur généra',\n",
       " 'directeur général',\n",
       " \"directeur général du fonds stratégique d'investissement\",\n",
       " 'directeur général délégué',\n",
       " 'directeur recherche-innovation de la division pièces extérieures',\n",
       " 'direction',\n",
       " 'directrice du développement des talents',\n",
       " 'directrice déléguée',\n",
       " 'dirige',\n",
       " 'dirigeants',\n",
       " 'drh',\n",
       " 'début de carrière',\n",
       " 'délégué cgt',\n",
       " 'emploi',\n",
       " \"faciliter le financement et le développement du potentiel d'innovation des pme et des eti\",\n",
       " 'fondatrice',\n",
       " 'gestion',\n",
       " 'grand patron',\n",
       " 'inspecteur des finances',\n",
       " 'inspection des finances',\n",
       " 'la direction',\n",
       " 'manager',\n",
       " 'managers',\n",
       " 'membre',\n",
       " \"ministre de l'industrie\",\n",
       " 'numéro un',\n",
       " 'partenaires sociaux',\n",
       " 'patron',\n",
       " 'patrons',\n",
       " 'pdg',\n",
       " 'polytechnicien',\n",
       " 'postes',\n",
       " \"postes d'intérimaires\",\n",
       " 'président',\n",
       " 'président du directoire',\n",
       " 'président france',\n",
       " 'psychologue du travail',\n",
       " 'représentant',\n",
       " 'salariés',\n",
       " 'secrétaire général',\n",
       " 'sous-traitants',\n",
       " 'spécialistes français de la sociologie',\n",
       " 'supervisé le déménagement',\n",
       " 'trésorier général',\n",
       " 'vice-président',\n",
       " 'à la tête',\n",
       " 'économiste',\n",
       " 'énarque'}"
      ]
     },
     "execution_count": 16,
     "metadata": {},
     "output_type": "execute_result"
    }
   ],
   "source": [
    "keywords = role_tags\n",
    "keywords -= {'du'}\n",
    "keywords"
   ]
  },
  {
   "cell_type": "code",
   "execution_count": 19,
   "metadata": {},
   "outputs": [
    {
     "name": "stderr",
     "output_type": "stream",
     "text": [
      "/home/ali/anaconda3/envs/space/lib/python3.7/site-packages/ipykernel_launcher.py:2: DeprecationWarning: This method will be removed in future versions.  Use 'list(elem)' or iteration over elem instead.\n",
      "  \n"
     ]
    }
   ],
   "source": [
    "role_syms = populateList(root, keywords)\n",
    "# findAll(root, keywords, results=None)\n"
   ]
  },
  {
   "cell_type": "code",
   "execution_count": 38,
   "metadata": {},
   "outputs": [],
   "source": [
    "myset -= {'architecte et psychologue du travail','directeur généra','job'}"
   ]
  },
  {
   "cell_type": "code",
   "execution_count": 42,
   "metadata": {},
   "outputs": [],
   "source": [
    "myset |= {'physiologue'}"
   ]
  },
  {
   "cell_type": "code",
   "execution_count": null,
   "metadata": {},
   "outputs": [],
   "source": []
  }
 ],
 "metadata": {
  "kernelspec": {
   "display_name": "space",
   "language": "python",
   "name": "space"
  },
  "language_info": {
   "codemirror_mode": {
    "name": "ipython",
    "version": 3
   },
   "file_extension": ".py",
   "mimetype": "text/x-python",
   "name": "python",
   "nbconvert_exporter": "python",
   "pygments_lexer": "ipython3",
   "version": "3.7.3"
  }
 },
 "nbformat": 4,
 "nbformat_minor": 2
}
