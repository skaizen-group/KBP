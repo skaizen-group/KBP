{
 "cells": [
  {
   "cell_type": "code",
   "execution_count": 1,
   "metadata": {},
   "outputs": [],
   "source": [
    "import os\n",
    "import re\n",
    "import pickle\n",
    "\n",
    "import numpy as np\n",
    "import pandas as pd\n",
    "\n",
    "import seaborn as sns\n",
    "import matplotlib\n",
    "import matplotlib.pyplot as plt\n",
    "import matplotlib.dates as mdates\n",
    "\n",
    "%matplotlib inline"
   ]
  },
  {
   "cell_type": "code",
   "execution_count": 2,
   "metadata": {},
   "outputs": [],
   "source": [
    "os.chdir(\"/mnt/c/users/alija/Datasets\")"
   ]
  },
  {
   "cell_type": "code",
   "execution_count": 3,
   "metadata": {},
   "outputs": [],
   "source": [
    "with open(\"alltexts.txt\", \"rb\") as outfile:\n",
    "    text = pickle.load(outfile)"
   ]
  },
  {
   "cell_type": "code",
   "execution_count": 4,
   "metadata": {},
   "outputs": [],
   "source": [
    "cac40 = ['ACCOR', 'AIRBUS', 'AIR LIQUIDE', 'ARCELORMITTAL', 'ATOS', 'AXA', 'BNP PARIBAS', 'BOUYGUES', 'CAPGEMINI ', 'CARREFOUR ', 'CREDIT AGRICOLE', 'DANONE', 'DASSAULT SYSTEMES', 'ENGIE', 'ESSILORLUXOTTICA', 'GROUPE PSA', 'HERMES INTERNATIONAL', 'KERING', \"L'OREAL\", 'LEGRAND', 'LVMH', 'MICHELIN', 'ORANGE', 'PERNOD RICARD', 'PUBLICIS GROUPE', 'RENAULT', 'SAFRAN', 'SAINT GOBAIN', 'SANOFI', 'SCHNEIDER ELECTRIC', 'SOCIETE GENERALE', 'SODEXO', 'STMICROELECTRONICS', 'TECHNIPFMC', 'TOTAL', 'UNIBAIL RODAMCO', 'VALEO', 'VEOLIA', 'VINCI', 'VIVENDI']"
   ]
  },
  {
   "cell_type": "code",
   "execution_count": 5,
   "metadata": {},
   "outputs": [],
   "source": [
    "def find(lst, predicate):\n",
    "    return next((i for i,j in enumerate(lst) if predicate(j)), -1)"
   ]
  },
  {
   "cell_type": "code",
   "execution_count": 10,
   "metadata": {},
   "outputs": [],
   "source": [
    "def findAll(lst, predicate):\n",
    "    return [i for i in lst if predicate(i)]"
   ]
  },
  {
   "cell_type": "code",
   "execution_count": 12,
   "metadata": {},
   "outputs": [
    {
     "data": {
      "text/plain": [
       "['the tiger ate the mouse', 'the tiger ate the chicken']"
      ]
     },
     "execution_count": 12,
     "metadata": {},
     "output_type": "execute_result"
    }
   ],
   "source": [
    "l = ['the tiger ate the mouse','the tiger ate the chicken','the horse ate the straw']\n",
    "findAll(l, lambda x: 'tiger' in x)"
   ]
  },
  {
   "cell_type": "code",
   "execution_count": 38,
   "metadata": {},
   "outputs": [],
   "source": [
    "def getSelection(source, keywords):\n",
    "    selection = []\n",
    "    for key in keywords:\n",
    "        catch = find(source, lambda x: re.search(r\"\\b\"+key+r\"\\b\",x))\n",
    "        selection.append(source[catch])\n",
    "    return selection"
   ]
  },
  {
   "cell_type": "code",
   "execution_count": 39,
   "metadata": {},
   "outputs": [],
   "source": [
    "sample = getSelection(text, cac40)"
   ]
  },
  {
   "cell_type": "code",
   "execution_count": 43,
   "metadata": {},
   "outputs": [],
   "source": [
    "def makeFiles(names, sample):\n",
    "    for ent, txt in zip(names, sample):\n",
    "        fname = './sample/'+ent+'.txt'\n",
    "        with open(fname, 'w') as outfile:\n",
    "            outfile.write(txt.lower())"
   ]
  },
  {
   "cell_type": "code",
   "execution_count": 44,
   "metadata": {},
   "outputs": [],
   "source": [
    "makeFiles(cac40, sample)"
   ]
  },
  {
   "cell_type": "code",
   "execution_count": 16,
   "metadata": {},
   "outputs": [],
   "source": [
    "def getMentions(source, keywords):\n",
    "    selection = []\n",
    "    for key in keywords:\n",
    "        catch = findAll(source, lambda x: re.search(r\"\\b\"+key+r\"\\b\",x))\n",
    "        selection.append(catch)\n",
    "    return selection"
   ]
  },
  {
   "cell_type": "code",
   "execution_count": 78,
   "metadata": {},
   "outputs": [],
   "source": [
    "missing = ['CREDIT AGRICOLE']"
   ]
  },
  {
   "cell_type": "code",
   "execution_count": 79,
   "metadata": {},
   "outputs": [],
   "source": [
    "missing_sampels = getMentions(text, missing)"
   ]
  },
  {
   "cell_type": "code",
   "execution_count": 80,
   "metadata": {},
   "outputs": [
    {
     "data": {
      "text/plain": [
       "1"
      ]
     },
     "execution_count": 80,
     "metadata": {},
     "output_type": "execute_result"
    }
   ],
   "source": [
    "len(missing_sampels)"
   ]
  },
  {
   "cell_type": "code",
   "execution_count": 88,
   "metadata": {},
   "outputs": [
    {
     "data": {
      "text/plain": [
       "\"le cac reprend 0,3% de retour sur les 4 200 points. les tensions entre l'ukraine et la russie restent en effet d'actualité et que le « défaut sélectif » de l'argentine reste encore dans les esprits des opérateurs. en parlant d'esprits, la banque banco espirito santo a été sauvée par l'etat portugais. celui-ci a décidé dimanche de renflouer à hauteur de 4,4 milliards d'euros la banque portugaise, en isolant les actifs toxiques et sous condition que les actionnaires mettent fortement la main à la poche. après le déluge des résultats d'entreprises, les opérateurs n'auront pas grand-chose à se mettre sous la dent en attendant la réunion de la bce jeudi. axa reprend 3,40% à 17,955 euros. les analystes sont positifs sur le titre après les solides résultats publiés par l'assureur vendredi. berenberg est à l'achat sur le titre et vise 22,70 euros, contre 22,40 euros auparavant. alcatel-lucent (+2,10% à 2,623 euros) qui avait été sacrément secoué en fin de semaine, reprend de la hauteur après avoir été relevé de pondération en ligne à surperformance par morgan stanley.le titre est suivi de lafarge qui gagne 1,63% à 57,96 euros. credit agricole, qui publie ses résultats mardi, progresse de 1,14% à 10,20 euros après au sauvetage de la banque en difficulté espirito santo (bes), dont il est actionnaire à hauteur de 14,6%. plusieurs fonds d'investissement étudieraient le scénario d'un rachat de 10 milliards de dollars de médicaments appartenant à sanofi et gsk, selon 'le financial times'. le titre ne profite pas de ce regain de spéculation et grappille 0,13% à 79,01 euros. hors cac, areva rebondit de près de 4% ce matin à proximité des 13 euros après avoir chuté de 20% vendredi suite à son avertissements sur résultats. par ailleurs, oddo passe de « achat » à « neutre » mais abaisse son objectif de cours à 15,50 euros, contre 23 euros auparavant. genfit gagne 3,80% à 28,50 euros après avoir perdu près de 9% sur la semaine. sur le marché des changes, l'euro est stable sur les 1,3421 dollar. le wti reprend 0,43% à 98,11 dollars et le brent gagne 0,38% à 105,09 dollars. l'once d'or perd 0,05% à 1 293 dollars. plus d'actualités bourse sur monfinancier.com pour aller plus loin, suivez le cours des marchés en direct\\n\\nles bourses européennes rebondissent dans les premiers échanges\""
      ]
     },
     "execution_count": 88,
     "metadata": {},
     "output_type": "execute_result"
    }
   ],
   "source": [
    "missing_sampels[0][np.random.randint(len(missing_sampels[0]))].lower()"
   ]
  },
  {
   "cell_type": "code",
   "execution_count": 97,
   "metadata": {},
   "outputs": [],
   "source": [
    "for dirpath, dnames, fnames in os.walk(\"./data/\"):\n",
    "    for f in fnames:\n",
    "        if f.endswith(\".txt\"):\n",
    "            new_f = f[:-4]+'.ann'\n",
    "            open(os.path.join(dirpath,new_f), 'a').close()"
   ]
  },
  {
   "cell_type": "code",
   "execution_count": null,
   "metadata": {},
   "outputs": [],
   "source": []
  }
 ],
 "metadata": {
  "kernelspec": {
   "display_name": "Python snake",
   "language": "python",
   "name": "snake"
  },
  "language_info": {
   "codemirror_mode": {
    "name": "ipython",
    "version": 3
   },
   "file_extension": ".py",
   "mimetype": "text/x-python",
   "name": "python",
   "nbconvert_exporter": "python",
   "pygments_lexer": "ipython3",
   "version": "3.6.5"
  }
 },
 "nbformat": 4,
 "nbformat_minor": 2
}
